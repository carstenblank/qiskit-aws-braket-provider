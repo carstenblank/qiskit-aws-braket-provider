{
 "cells": [
  {
   "cell_type": "code",
   "execution_count": 1,
   "metadata": {
    "collapsed": true
   },
   "outputs": [],
   "source": [
    "import cmath\n",
    "import math\n",
    "\n",
    "import numpy as np\n",
    "import qiskit\n",
    "import matplotlib.pyplot as plt\n",
    "from qiskit import QuantumCircuit\n",
    "from typing import Optional, List, Dict\n",
    "\n",
    "from qiskit_aws_braket_provider.awsprovider import AWSProvider"
   ]
  },
  {
   "cell_type": "code",
   "execution_count": 3,
   "metadata": {
    "pycharm": {
     "name": "#%%\n"
    }
   },
   "outputs": [],
   "source": [
    "def compute_rotation(index_state):\n",
    "\n",
    "    if len(index_state) != 2:\n",
    "        return None, None\n",
    "\n",
    "    index_state = np.asarray(index_state)\n",
    "\n",
    "    if abs(np.linalg.norm(index_state)) < 1e-6:\n",
    "        return None, None\n",
    "\n",
    "    index_state = index_state / np.linalg.norm(index_state)\n",
    "\n",
    "    if abs(index_state[0] - index_state[1]) < 1e-6:\n",
    "        return None, None\n",
    "\n",
    "    a_1 = abs(index_state[0])\n",
    "    w_1 = cmath.phase(index_state[0])\n",
    "    a_2 = abs(index_state[1])\n",
    "    w_2 = cmath.phase(index_state[1])\n",
    "\n",
    "    alpha_z = w_2 - w_1\n",
    "    alpha_y = 2 * np.arcsin(abs(a_2) / np.sqrt(a_2 ** 2 + a_1 ** 2))\n",
    "\n",
    "    return alpha_y, alpha_z"
   ]
  },
  {
   "cell_type": "code",
   "execution_count": 4,
   "metadata": {
    "pycharm": {
     "name": "#%%\n"
    }
   },
   "outputs": [],
   "source": [
    "def create_swap_test_circuit(index_state, theta, **kwargs):\n",
    "    # type: (List[float], float, Optional[dict]) -> QuantumCircuit\n",
    "    \"\"\"\n",
    "\n",
    "    :param index_state:\n",
    "    :param theta:\n",
    "    :param kwargs: use_barriers (bool) and readout_swap (Dict[int, int])\n",
    "    :return:\n",
    "    \"\"\"\n",
    "    use_barriers = kwargs.get('use_barriers', False)\n",
    "    readout_swap = kwargs.get('readout_swap', None)\n",
    "\n",
    "    q = qiskit.QuantumRegister(5, \"q\")\n",
    "    c = qiskit.ClassicalRegister(2, \"c\")\n",
    "    qc = qiskit.QuantumCircuit(q, c, name=\"improvement\")\n",
    "\n",
    "    # Index on q_0\n",
    "    alpha_y, _ = compute_rotation(index_state)\n",
    "    if alpha_y is None:\n",
    "        qc.h(q[0])\n",
    "    else:\n",
    "        qc.ry(-alpha_y, q[0]).inverse()\n",
    "    if use_barriers: jupyter = qc.barrier()\n",
    "\n",
    "    # Conditionally exite x_1 on data q_2 (center!)\n",
    "    qc.h(q[2])\n",
    "    if use_barriers: qc.barrier()\n",
    "    qc.rz(math.pi, q[2]).inverse()\n",
    "    if use_barriers: qc.barrier()\n",
    "    qc.s(q[2])\n",
    "    if use_barriers: qc.barrier()\n",
    "    qc.cz(q[0], q[2])\n",
    "    if use_barriers: qc.barrier()\n",
    "\n",
    "    # Label y_1\n",
    "    qc.cx(q[0], q[1])\n",
    "    if use_barriers: qc.barrier()\n",
    "\n",
    "    # Ancilla Superposition\n",
    "    qc.h(q[4])\n",
    "    if use_barriers: qc.barrier()\n",
    "\n",
    "    # Unknown data\n",
    "    qc.rx(theta, q[3])\n",
    "    if use_barriers: qc.barrier()\n",
    "\n",
    "    # c-SWAP!!!\n",
    "    # standard.barrier(qc)\n",
    "    qc.cswap(q[4], q[2], q[3])\n",
    "    if use_barriers: qc.barrier()\n",
    "\n",
    "    # Hadamard on ancilla q_4\n",
    "    qc.h(q[4])\n",
    "    if use_barriers: qc.barrier()\n",
    "\n",
    "    # Measure on ancilla q_4 and label q_1\n",
    "    if readout_swap is not None:\n",
    "        qc.barrier()\n",
    "        for i in range(q.size):\n",
    "            j = readout_swap.get(i, i)\n",
    "            if i != j:\n",
    "                qc.swap(q[i], q[j])\n",
    "    else:\n",
    "        readout_swap = {}\n",
    "\n",
    "    qc.barrier()\n",
    "    m1 = readout_swap.get(4, 4)\n",
    "    m2 = readout_swap.get(1, 1)\n",
    "    qiskit.circuit.measure.measure(qc, q[m1], c[0])\n",
    "    qiskit.circuit.measure.measure(qc, q[m2], c[1])\n",
    "\n",
    "    return qc\n"
   ]
  },
  {
   "cell_type": "code",
   "execution_count": 5,
   "metadata": {
    "pycharm": {
     "name": "#%%\n"
    }
   },
   "outputs": [],
   "source": [
    "def extract_classification(counts: Dict[str, int]) -> float:\n",
    "    shots = sum(counts.values())\n",
    "    return (counts.get('00', 0) - counts.get('01', 0) - counts.get('10', 0) + counts.get('11', 0)) / float(shots)"
   ]
  },
  {
   "cell_type": "code",
   "execution_count": 6,
   "metadata": {
    "pycharm": {
     "name": "#%%\n"
    }
   },
   "outputs": [],
   "source": [
    "\n",
    "def compare_plot(theta, classification, classification_label=None, compare_classification=None, compare_classification_label=None):\n",
    "    plt.figure(figsize=(10, 7))\n",
    "    theta = theta if len(theta) == len(classification) else range(len(classification))\n",
    "\n",
    "    prefix_label = '{} '.format(classification_label) if classification_label is not None else ''\n",
    "    plt.scatter(x=[xx for xx, p in zip(theta, classification) if p >= 0],\n",
    "                y=[p for p in classification if p >= 0],\n",
    "                label=prefix_label + '$\\\\tilde{y} = 0$',\n",
    "                c='red',\n",
    "                marker='^',\n",
    "                linewidths=1.0)\n",
    "    plt.scatter(x=[xx for xx, p in zip(theta, classification) if p < 0],\n",
    "                y=[p for p in classification if p < 0],\n",
    "                label=prefix_label + '$\\\\tilde{y} = 1$',\n",
    "                c='white',\n",
    "                marker='^',\n",
    "                linewidths=1.0, edgecolors='red')\n",
    "    y_lim_lower = min(classification) - 0.1\n",
    "    y_lim_upper = max(classification) + 0.1\n",
    "\n",
    "    if compare_classification is not None and len(compare_classification) == len(classification):\n",
    "        prefix_label = '{} '.format(compare_classification_label) if compare_classification_label is not None else ''\n",
    "        plt.scatter(x=[xx for xx, p in zip(theta, compare_classification) if p >= 0],\n",
    "                    y=[p for p in compare_classification if p >= 0],\n",
    "                    label=prefix_label + '$\\\\tilde{y} = 0$',\n",
    "                    c='blue',\n",
    "                    marker='s',\n",
    "                    linewidths=1.0)\n",
    "        plt.scatter(x=[xx for xx, p in zip(theta, compare_classification) if p < 0],\n",
    "                    y=[p for p in compare_classification if p < 0],\n",
    "                    label=prefix_label + '$\\\\tilde{y} = 1$',\n",
    "                    c='white',\n",
    "                    marker='s',\n",
    "                    linewidths=1.0, edgecolors='blue')\n",
    "        y_lim_lower = min(min(compare_classification) - 0.1, y_lim_lower)\n",
    "        y_lim_upper = max(max(compare_classification) + 0.1, y_lim_upper)\n",
    "\n",
    "    plt.legend(fontsize=17)\n",
    "    plt.xlabel(\"$\\\\theta$ (rad.)\", fontsize=22)\n",
    "    plt.ylabel(\"$\\\\langle \\\\sigma_z^{(a)} \\\\sigma_z^{(l)} \\\\rangle$\", fontsize=22)\n",
    "    plt.tick_params(labelsize=22)\n",
    "\n",
    "    plt.ylim((y_lim_lower, y_lim_upper))"
   ]
  },
  {
   "cell_type": "code",
   "execution_count": 7,
   "metadata": {
    "pycharm": {
     "name": "#%%\n"
    }
   },
   "outputs": [
    {
     "data": {
      "text/html": [
       "<pre style=\"word-wrap: normal;white-space: pre;background: #fff0;line-height: 1.1;font-family: &quot;Courier New&quot;,Courier,monospace\">       ┌───┐                               ░       \n",
       "q_0: ──┤ H ├──────────────────■───■────────░───────\n",
       "       └───┘                  │ ┌─┴─┐      ░    ┌─┐\n",
       "q_1: ─────────────────────────┼─┤ X ├──────░────┤M├\n",
       "       ┌───┐  ┌────────┐┌───┐ │ └───┘      ░    └╥┘\n",
       "q_2: ──┤ H ├──┤ RZ(pi) ├┤ S ├─■───X────────░─────╫─\n",
       "     ┌─┴───┴─┐└────────┘└───┘     │        ░     ║ \n",
       "q_3: ┤ RX(0) ├────────────────────X────────░─────╫─\n",
       "     └─┬───┬─┘                    │  ┌───┐ ░ ┌─┐ ║ \n",
       "q_4: ──┤ H ├──────────────────────■──┤ H ├─░─┤M├─╫─\n",
       "       └───┘                         └───┘ ░ └╥┘ ║ \n",
       "c: 2/═════════════════════════════════════════╩══╩═\n",
       "                                              0  1 </pre>"
      ],
      "text/plain": [
       "       ┌───┐                               ░       \n",
       "q_0: ──┤ H ├──────────────────■───■────────░───────\n",
       "       └───┘                  │ ┌─┴─┐      ░    ┌─┐\n",
       "q_1: ─────────────────────────┼─┤ X ├──────░────┤M├\n",
       "       ┌───┐  ┌────────┐┌───┐ │ └───┘      ░    └╥┘\n",
       "q_2: ──┤ H ├──┤ RZ(pi) ├┤ S ├─■───X────────░─────╫─\n",
       "     ┌─┴───┴─┐└────────┘└───┘     │        ░     ║ \n",
       "q_3: ┤ RX(0) ├────────────────────X────────░─────╫─\n",
       "     └─┬───┬─┘                    │  ┌───┐ ░ ┌─┐ ║ \n",
       "q_4: ──┤ H ├──────────────────────■──┤ H ├─░─┤M├─╫─\n",
       "       └───┘                         └───┘ ░ └╥┘ ║ \n",
       "c: 2/═════════════════════════════════════════╩══╩═\n",
       "                                              0  1 "
      ]
     },
     "execution_count": 7,
     "metadata": {},
     "output_type": "execute_result"
    }
   ],
   "source": [
    "index_state = [np.sqrt(2), np.sqrt(2)]\n",
    "theta_list = np.arange(start=0, stop=2*np.pi, step=0.2)\n",
    "qc_list = [create_swap_test_circuit(index_state, theta=theta) for theta in theta_list]\n",
    "qc_list[0].draw()"
   ]
  },
  {
   "cell_type": "code",
   "execution_count": 8,
   "metadata": {
    "pycharm": {
     "name": "#%%\n"
    }
   },
   "outputs": [],
   "source": [
    "provider = AWSProvider(region_name='us-east-1')\n",
    "backend = provider.get_backend('IonQ Device')\n",
    "sim_backend = provider.get_backend('SV1')"
   ]
  },
  {
   "cell_type": "code",
   "execution_count": 9,
   "metadata": {
    "pycharm": {
     "name": "#%%\n"
    }
   },
   "outputs": [],
   "source": [
    "qc_transpiled_list = qiskit.transpile(qc_list, backend)\n",
    "qobj = qiskit.assemble(qc_transpiled_list, backend, shots=100)"
   ]
  },
  {
   "cell_type": "code",
   "execution_count": 10,
   "metadata": {
    "pycharm": {
     "name": "#%%\n"
    }
   },
   "outputs": [
    {
     "data": {
      "text/plain": [
       "(32.0, 40.0)"
      ]
     },
     "execution_count": 10,
     "metadata": {},
     "output_type": "execute_result"
    }
   ],
   "source": [
    "backend.estimate_costs(qobj), sim_backend.estimate_costs(qobj)"
   ]
  },
  {
   "cell_type": "code",
   "execution_count": 11,
   "metadata": {
    "pycharm": {
     "name": "#%%\n"
    }
   },
   "outputs": [],
   "source": [
    "# ATTENTION!!!!!!\n",
    "# Uncomment to execute\n",
    "# BE AWARE that this will create costs!\n",
    "# ATTENTION!!!!!!\n",
    "\n",
    "# job = backend.run(qobj, extra_data={\n",
    "#     'index_state': index_state,\n",
    "#     'theta_list': list(theta_list)\n",
    "# })\n",
    "# job_id = job.job_id()\n",
    "#\n",
    "# sim_job = sim_backend.run(qobj, extra_data={\n",
    "#     'index_state': index_state,\n",
    "#     'theta_list': list(theta_list)\n",
    "# })\n",
    "# sim_job_id = sim_job.job_id()\n",
    "#\n",
    "# job_id, sim_job_id"
   ]
  },
  {
   "cell_type": "code",
   "execution_count": 18,
   "metadata": {
    "pycharm": {
     "name": "#%%\n"
    }
   },
   "outputs": [],
   "source": [
    "# Please input the job ids here\n",
    "sim_retrieved_job = sim_backend.retrieve_job('<sim_job_id>')\n",
    "retrieved_job = backend.retrieve_job('<job_id>')"
   ]
  },
  {
   "cell_type": "code",
   "execution_count": 20,
   "metadata": {
    "pycharm": {
     "name": "#%%\n"
    }
   },
   "outputs": [],
   "source": [
    "result = retrieved_job.result()\n",
    "sim_result = sim_retrieved_job.result()"
   ]
  },
  {
   "cell_type": "code",
   "execution_count": 21,
   "metadata": {
    "pycharm": {
     "name": "#%%\n"
    }
   },
   "outputs": [
    {
     "data": {
      "image/png": "[encoded data removed]",
      "text/plain": [
       "<Figure size 720x504 with 1 Axes>"
      ]
     },
     "metadata": {
      "needs_background": "light"
     },
     "output_type": "display_data"
    }
   ],
   "source": [
    "\n",
    "x = retrieved_job.extra_data['theta_list']\n",
    "experiment_classification = [extract_classification(c) for c in result.get_counts()]\n",
    "simulation_classification = [extract_classification(c) for c in sim_result.get_counts()]\n",
    "\n",
    "compare_plot(\n",
    "    theta=theta_list,\n",
    "    classification=experiment_classification, classification_label='experiment',\n",
    "    compare_classification=simulation_classification, compare_classification_label='simulation'\n",
    ")"
   ]
  },
  {
   "cell_type": "code",
   "execution_count": 38,
   "metadata": {
    "pycharm": {
     "name": "#%%\n"
    }
   },
   "outputs": [],
   "source": []
  }
 ],
 "metadata": {
  "kernelspec": {
   "display_name": "Python 3",
   "language": "python",
   "name": "python3"
  },
  "language_info": {
   "codemirror_mode": {
    "name": "ipython",
    "version": 3
   },
   "file_extension": ".py",
   "mimetype": "text/x-python",
   "name": "python",
   "nbconvert_exporter": "python",
   "pygments_lexer": "ipython3",
   "version": "3.8.6rc1"
  }
 },
 "nbformat": 4,
 "nbformat_minor": 1
}